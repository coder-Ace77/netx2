{
 "cells": [
  {
   "cell_type": "code",
   "execution_count": 34,
   "metadata": {},
   "outputs": [],
   "source": [
    "import networkx as nx\n",
    "G = nx.read_adjlist('graph1.adjlist', nodetype=int)"
   ]
  },
  {
   "cell_type": "code",
   "execution_count": 35,
   "metadata": {},
   "outputs": [
    {
     "name": "stdout",
     "output_type": "stream",
     "text": [
      "3231.036299718778\n"
     ]
    }
   ],
   "source": [
    "betweenness_centrality = nx.betweenness_centrality(G, normalized=False)\n",
    "mx = max(betweenness_centrality.values())\n",
    "print(mx)"
   ]
  },
  {
   "cell_type": "code",
   "execution_count": 36,
   "metadata": {},
   "outputs": [
    {
     "name": "stdout",
     "output_type": "stream",
     "text": [
      "3207.738600056165\n",
      "3154.05646006183\n"
     ]
    }
   ],
   "source": [
    "G1 = G.copy()\n",
    "G1.add_edge(0,167)\n",
    "betweenness_centrality = nx.betweenness_centrality(G1, normalized=False)\n",
    "mx = max(betweenness_centrality.values())\n",
    "print(mx)\n",
    "G2 = G.copy()\n",
    "G2.add_edge(2,168)\n",
    "betweenness_centrality = nx.betweenness_centrality(G2, normalized=False)\n",
    "mx = max(betweenness_centrality.values())\n",
    "print(mx)"
   ]
  }
 ],
 "metadata": {
  "kernelspec": {
   "display_name": "Python 3",
   "language": "python",
   "name": "python3"
  },
  "language_info": {
   "codemirror_mode": {
    "name": "ipython",
    "version": 3
   },
   "file_extension": ".py",
   "mimetype": "text/x-python",
   "name": "python",
   "nbconvert_exporter": "python",
   "pygments_lexer": "ipython3",
   "version": "3.12.6"
  }
 },
 "nbformat": 4,
 "nbformat_minor": 2
}
