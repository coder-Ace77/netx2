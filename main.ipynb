{
 "cells": [
  {
   "cell_type": "code",
   "execution_count": 17,
   "metadata": {},
   "outputs": [],
   "source": [
    "import networkx as nx\n",
    "\n",
    "# Replace 'graph.adjlist' with the path to your adjacency list file\n",
    "G = nx.read_adjlist('graph1.adjlist')\n",
    "betweenness_centrality = nx.betweenness_centrality(G, normalized=False)\n",
    "mx = max(betweenness_centrality.values())"
   ]
  },
  {
   "cell_type": "code",
   "execution_count": 18,
   "metadata": {},
   "outputs": [
    {
     "name": "stdout",
     "output_type": "stream",
     "text": [
      "3231.036299718778\n"
     ]
    }
   ],
   "source": [
    "print(mx)"
   ]
  },
  {
   "cell_type": "code",
   "execution_count": 20,
   "metadata": {},
   "outputs": [],
   "source": [
    "def brandes_betweenness_centrality(graph, normalized=False):\n",
    "    \"\"\"\n",
    "    Calculate the betweenness centrality of a NetworkX graph using Brandes' algorithm.\n",
    "\n",
    "    Parameters:\n",
    "        graph (networkx.Graph): The input graph.\n",
    "        normalized (bool): Whether to normalize the centrality values. Default is True.\n",
    "\n",
    "    Returns:\n",
    "        dict: A dictionary where keys are nodes and values are their betweenness centrality.\n",
    "    \"\"\"\n",
    "    betweenness = dict.fromkeys(graph, 0.0)  # Initialize betweenness centrality for all nodes\n",
    "    for s in graph:\n",
    "        # Single-source shortest paths\n",
    "        stack = []\n",
    "        pred = {w: [] for w in graph}  # Predecessors\n",
    "        sigma = dict.fromkeys(graph, 0.0)  # Number of shortest paths\n",
    "        sigma[s] = 1.0\n",
    "        dist = dict.fromkeys(graph, -1)  # Distance from source\n",
    "        dist[s] = 0\n",
    "        queue = [s]\n",
    "        \n",
    "        while queue:\n",
    "            v = queue.pop(0)\n",
    "            stack.append(v)\n",
    "            for w in graph[v]:\n",
    "                # Path discovery\n",
    "                if dist[w] == -1:  # w found for the first time\n",
    "                    dist[w] = dist[v] + 1\n",
    "                    queue.append(w)\n",
    "                # Path counting\n",
    "                if dist[w] == dist[v] + 1:  # Is w on the shortest path?\n",
    "                    sigma[w] += sigma[v]\n",
    "                    pred[w].append(v)\n",
    "        \n",
    "        # Accumulation\n",
    "        delta = dict.fromkeys(graph, 0.0)  # Dependency\n",
    "        while stack:\n",
    "            w = stack.pop()\n",
    "            for v in pred[w]:\n",
    "                delta[v] += (sigma[v] / sigma[w]) * (1 + delta[w])\n",
    "            if w != s:\n",
    "                betweenness[w] += delta[w]\n",
    "    \n",
    "    # Normalization\n",
    "    if normalized:\n",
    "        scale = 1 / ((len(graph) - 1) * (len(graph) - 2)) if len(graph) > 2 else None\n",
    "        if scale is not None:\n",
    "            for v in betweenness:\n",
    "                betweenness[v] *= scale\n",
    "    else:\n",
    "        for v in betweenness:\n",
    "            betweenness[v] /= 2.0  # For undirected graphs\n",
    "    \n",
    "    return betweenness"
   ]
  },
  {
   "cell_type": "code",
   "execution_count": 22,
   "metadata": {},
   "outputs": [
    {
     "name": "stdout",
     "output_type": "stream",
     "text": [
      "3231.0362997187776\n"
     ]
    }
   ],
   "source": [
    "print(max(brandes_betweenness_centrality(G, normalized=False).values()))"
   ]
  },
  {
   "cell_type": "code",
   "execution_count": null,
   "metadata": {},
   "outputs": [],
   "source": []
  }
 ],
 "metadata": {
  "kernelspec": {
   "display_name": "Python 3",
   "language": "python",
   "name": "python3"
  },
  "language_info": {
   "codemirror_mode": {
    "name": "ipython",
    "version": 3
   },
   "file_extension": ".py",
   "mimetype": "text/x-python",
   "name": "python",
   "nbconvert_exporter": "python",
   "pygments_lexer": "ipython3",
   "version": "3.12.6"
  }
 },
 "nbformat": 4,
 "nbformat_minor": 2
}
