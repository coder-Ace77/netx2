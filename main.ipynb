{
 "cells": [
  {
   "cell_type": "code",
   "execution_count": 8,
   "metadata": {},
   "outputs": [],
   "source": [
    "from collections import defaultdict\n",
    "from collections import deque\n"
   ]
  },
  {
   "cell_type": "code",
   "execution_count": 4,
   "metadata": {},
   "outputs": [],
   "source": [
    "import networkx as nx\n",
    "G = nx.read_adjlist('graph0.adjlist', nodetype=int)"
   ]
  },
  {
   "cell_type": "code",
   "execution_count": 22,
   "metadata": {},
   "outputs": [],
   "source": [
    "# G.add_edge(43,156)\n",
    "# betweenness_centrality = max(nx.betweenness_centrality(G,normalized=False).values())\n",
    "# print(betweenness_centrality)"
   ]
  },
  {
   "cell_type": "code",
   "execution_count": 84,
   "metadata": {},
   "outputs": [
    {
     "name": "stdout",
     "output_type": "stream",
     "text": [
      "defaultdict(<class 'int'>, {1: 4, 3: 4, 2: 10, 0: 2})\n"
     ]
    }
   ],
   "source": [
    "from collections import defaultdict\n",
    "\n",
    "def stress_centrality0(G):\n",
    "    stress = defaultdict(int)\n",
    "    nodes = list(G.nodes())\n",
    "    for s in nodes:\n",
    "        for t in nodes:\n",
    "            if s != t:\n",
    "                paths = list(nx.all_shortest_paths(G, s, t))\n",
    "                for path in paths:\n",
    "                    for v in path[1:-1]:\n",
    "                        stress[v] += 1\n",
    "    return stress\n",
    "\n",
    "print(stress_centrality0(G))"
   ]
  },
  {
   "cell_type": "code",
   "execution_count": 109,
   "metadata": {},
   "outputs": [],
   "source": [
    "from collections import deque\n",
    "\n",
    "def stress_centrality(G):\n",
    "    stress = {n: 0 for n in G.nodes()}\n",
    "    nodes = G.nodes()\n",
    "    \n",
    "    for s in nodes:\n",
    "        S = []\n",
    "        P = {w: [] for w in nodes}\n",
    "        sigma = {w: 0 for w in nodes}\n",
    "        sigma[s] = 1\n",
    "        d = {w: -1 for w in nodes}\n",
    "        d[s] = 0\n",
    "        Q = deque([s])\n",
    "        \n",
    "        # Breadth-first search\n",
    "        while Q:\n",
    "            v = Q.popleft()\n",
    "            S.append(v)\n",
    "            for w in G.neighbors(v):\n",
    "                # Path discovery\n",
    "                if d[w] < 0:\n",
    "                    Q.append(w)\n",
    "                    d[w] = d[v] + 1\n",
    "                if d[w] == d[v] + 1:\n",
    "                    sigma[w]+=sigma[v]\n",
    "                    P[w].append(v)\n",
    "        \n",
    "        delta = {w: 0 for w in nodes}\n",
    "        while S:\n",
    "            w = S.pop()\n",
    "            for v in P[w]:\n",
    "                delta[v]+=(delta[w]+1)\n",
    "            if w != s:\n",
    "                stress[w]+=delta[w]*sigma[w]/2\n",
    "        print(w,delta,sigma)\n",
    "    \n",
    "    return stress"
   ]
  },
  {
   "cell_type": "code",
   "execution_count": 110,
   "metadata": {},
   "outputs": [
    {
     "name": "stdout",
     "output_type": "stream",
     "text": [
      "0 {0: 4, 1: 3, 2: 2, 3: 0, 4: 0} {0: 1, 1: 1, 2: 1, 3: 1, 4: 1}\n",
      "1 {0: 0, 1: 4, 2: 2, 3: 0, 4: 0} {0: 1, 1: 1, 2: 1, 3: 1, 4: 1}\n",
      "2 {0: 0, 1: 1, 2: 4, 3: 0, 4: 0} {0: 1, 1: 1, 2: 1, 3: 1, 4: 1}\n",
      "3 {0: 0, 1: 1, 2: 3, 3: 4, 4: 0} {0: 1, 1: 1, 2: 1, 3: 1, 4: 1}\n",
      "4 {0: 0, 1: 1, 2: 3, 3: 0, 4: 4} {0: 1, 1: 1, 2: 1, 3: 1, 4: 1}\n",
      "{0: 0.0, 1: 3.0, 2: 5.0, 3: 0.0, 4: 0.0}\n",
      "0 {0: 4, 1: 0, 2: 2, 3: 0, 4: 0} {0: 1, 1: 1, 2: 1, 3: 1, 4: 1}\n",
      "1 {0: 0, 1: 4, 2: 2, 3: 0, 4: 0} {0: 1, 1: 1, 2: 1, 3: 1, 4: 1}\n",
      "2 {0: 0, 1: 0, 2: 4, 3: 0, 4: 0} {0: 1, 1: 1, 2: 1, 3: 1, 4: 1}\n",
      "3 {0: 0, 1: 0, 2: 3, 3: 4, 4: 0} {0: 1, 1: 1, 2: 1, 3: 1, 4: 1}\n",
      "4 {0: 0, 1: 0, 2: 3, 3: 0, 4: 4} {0: 1, 1: 1, 2: 1, 3: 1, 4: 1}\n",
      "0 2 {0: 0.0, 1: 0.0, 2: 5.0, 3: 0.0, 4: 0.0}\n",
      "0 {0: 6, 1: 2, 2: 1, 3: 2, 4: 0} {0: 1, 1: 1, 2: 2, 3: 1, 4: 2}\n",
      "1 {0: 1, 1: 5, 2: 2, 3: 0, 4: 0} {0: 1, 1: 1, 2: 1, 3: 2, 4: 1}\n",
      "2 {0: 0, 1: 1, 2: 5, 3: 1, 4: 0} {0: 2, 1: 1, 2: 1, 3: 1, 4: 1}\n",
      "3 {0: 1, 1: 0, 2: 2, 3: 5, 4: 0} {0: 1, 1: 2, 2: 1, 3: 1, 4: 1}\n",
      "4 {0: 0, 1: 1, 2: 4, 3: 1, 4: 5} {0: 2, 1: 1, 2: 1, 3: 1, 4: 1}\n",
      "0 3 {0: 1.0, 1: 2.0, 2: 5.0, 3: 2.0, 4: 0.0}\n",
      "0 {0: 6, 1: 2, 2: 1, 3: 0, 4: 2} {0: 1, 1: 1, 2: 2, 3: 2, 4: 1}\n",
      "1 {0: 1, 1: 5, 2: 2, 3: 0, 4: 0} {0: 1, 1: 1, 2: 1, 3: 1, 4: 2}\n",
      "2 {0: 0, 1: 1, 2: 5, 3: 0, 4: 1} {0: 2, 1: 1, 2: 1, 3: 1, 4: 1}\n",
      "3 {0: 0, 1: 1, 2: 4, 3: 5, 4: 1} {0: 2, 1: 1, 2: 1, 3: 1, 4: 1}\n",
      "4 {0: 1, 1: 0, 2: 2, 3: 0, 4: 5} {0: 1, 1: 2, 2: 1, 3: 1, 4: 1}\n",
      "0 4 {0: 1.0, 1: 2.0, 2: 5.0, 3: 0.0, 4: 2.0}\n",
      "0 {0: 4, 1: 3, 2: 1, 3: 0, 4: 0} {0: 1, 1: 1, 2: 1, 3: 1, 4: 1}\n",
      "1 {0: 0, 1: 4, 2: 1, 3: 0, 4: 0} {0: 1, 1: 1, 2: 1, 3: 1, 4: 1}\n",
      "2 {0: 0, 1: 1, 2: 4, 3: 0, 4: 0} {0: 1, 1: 1, 2: 1, 3: 1, 4: 1}\n",
      "3 {0: 0, 1: 1, 2: 1, 3: 4, 4: 0} {0: 1, 1: 1, 2: 1, 3: 1, 4: 1}\n",
      "4 {0: 0, 1: 1, 2: 3, 3: 0, 4: 4} {0: 1, 1: 1, 2: 1, 3: 1, 4: 1}\n",
      "1 3 {0: 0.0, 1: 3.0, 2: 3.0, 3: 0.0, 4: 0.0}\n",
      "0 {0: 4, 1: 3, 2: 1, 3: 0, 4: 0} {0: 1, 1: 1, 2: 1, 3: 1, 4: 1}\n",
      "1 {0: 0, 1: 4, 2: 1, 3: 0, 4: 0} {0: 1, 1: 1, 2: 1, 3: 1, 4: 1}\n",
      "2 {0: 0, 1: 1, 2: 4, 3: 0, 4: 0} {0: 1, 1: 1, 2: 1, 3: 1, 4: 1}\n",
      "3 {0: 0, 1: 1, 2: 3, 3: 4, 4: 0} {0: 1, 1: 1, 2: 1, 3: 1, 4: 1}\n",
      "4 {0: 0, 1: 1, 2: 1, 3: 0, 4: 4} {0: 1, 1: 1, 2: 1, 3: 1, 4: 1}\n",
      "1 4 {0: 0.0, 1: 3.0, 2: 3.0, 3: 0.0, 4: 0.0}\n",
      "0 {0: 4, 1: 3, 2: 2, 3: 0, 4: 0} {0: 1, 1: 1, 2: 1, 3: 1, 4: 1}\n",
      "1 {0: 0, 1: 4, 2: 2, 3: 0, 4: 0} {0: 1, 1: 1, 2: 1, 3: 1, 4: 1}\n",
      "2 {0: 0, 1: 1, 2: 4, 3: 0, 4: 0} {0: 1, 1: 1, 2: 1, 3: 1, 4: 1}\n",
      "3 {0: 0, 1: 1, 2: 2, 3: 4, 4: 0} {0: 1, 1: 1, 2: 1, 3: 1, 4: 1}\n",
      "4 {0: 0, 1: 1, 2: 2, 3: 0, 4: 4} {0: 1, 1: 1, 2: 1, 3: 1, 4: 1}\n",
      "3 4 {0: 0.0, 1: 3.0, 2: 4.0, 3: 0.0, 4: 0.0}\n"
     ]
    }
   ],
   "source": [
    "G = nx.read_adjlist('graph0.adjlist', nodetype=int)\n",
    "stress = stress_centrality(G)\n",
    "print(stress)\n",
    "for i in G.nodes():\n",
    "    for j in G.nodes():\n",
    "        if i < j and not G.has_edge(i, j):\n",
    "            G.add_edge(i, j)\n",
    "            print(i,j,stress_centrality(G))\n",
    "            G.remove_edge(i, j)"
   ]
  },
  {
   "cell_type": "code",
   "execution_count": null,
   "metadata": {},
   "outputs": [],
   "source": [
    "import matplotlib.pyplot as plt\n",
    "\n",
    "plt.figure(figsize=(8, 6))\n",
    "nx.draw(G, with_labels=True, node_color='lightblue', edge_color='gray', node_size=500, font_size=10)\n",
    "plt.title(\"Graph Visualization\")\n",
    "plt.show()"
   ]
  },
  {
   "cell_type": "code",
   "execution_count": 1,
   "metadata": {},
   "outputs": [],
   "source": [
    "def stress_centrality_brute_force(G):\n",
    "    stress_centrality = defaultdict(int)\n",
    "    nodes = sorted(G.nodes())      \n",
    "    for i, source in enumerate(nodes):\n",
    "        for target in nodes[i+1:]:  \n",
    "            try:\n",
    "                paths = list(nx.all_shortest_paths(G, source=source, target=target))\n",
    "                for path in paths:\n",
    "                    for node in path[1:-1]:  # Exclude source and target\n",
    "                        stress_centrality[node] += 1\n",
    "            except nx.NetworkXNoPath:\n",
    "                continue\n",
    "    return stress_centrality"
   ]
  },
  {
   "cell_type": "code",
   "execution_count": null,
   "metadata": {},
   "outputs": [],
   "source": []
  },
  {
   "cell_type": "code",
   "execution_count": 12,
   "metadata": {},
   "outputs": [],
   "source": [
    "def cmp(filename):\n",
    "    G = nx.read_adjlist(filename, nodetype=int)\n",
    "    ans = max(stress_centrality_brute_force(G).values())\n",
    "    print(ans)"
   ]
  },
  {
   "cell_type": "code",
   "execution_count": 13,
   "metadata": {},
   "outputs": [
    {
     "name": "stdout",
     "output_type": "stream",
     "text": [
      "5\n",
      "12864\n",
      "7767\n",
      "14194\n",
      "8808\n",
      "12448\n"
     ]
    }
   ],
   "source": [
    "for i in range(0,6):\n",
    "    cmp('graph'+str(i)+'.adjlist')"
   ]
  },
  {
   "cell_type": "code",
   "execution_count": null,
   "metadata": {},
   "outputs": [],
   "source": []
  }
 ],
 "metadata": {
  "kernelspec": {
   "display_name": "Python 3",
   "language": "python",
   "name": "python3"
  },
  "language_info": {
   "codemirror_mode": {
    "name": "ipython",
    "version": 3
   },
   "file_extension": ".py",
   "mimetype": "text/x-python",
   "name": "python",
   "nbconvert_exporter": "python",
   "pygments_lexer": "ipython3",
   "version": "3.12.6"
  }
 },
 "nbformat": 4,
 "nbformat_minor": 2
}
